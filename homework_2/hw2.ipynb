{
 "cells": [
  {
   "cell_type": "code",
   "execution_count": 1,
   "id": "a63fed50-fdd3-41d8-8ce6-2c5c1b363ad0",
   "metadata": {},
   "outputs": [
    {
     "name": "stdout",
     "output_type": "stream",
     "text": [
      "Collecting duckdb==1.2.2\n",
      "  Downloading duckdb-1.2.2-cp311-cp311-manylinux_2_17_x86_64.manylinux2014_x86_64.whl.metadata (966 bytes)\n",
      "Downloading duckdb-1.2.2-cp311-cp311-manylinux_2_17_x86_64.manylinux2014_x86_64.whl (20.2 MB)\n",
      "\u001b[2K   \u001b[90m━━━━━━━━━━━━━━━━━━━━━━━━━━━━━━━━━━━━━━━━\u001b[0m \u001b[32m20.2/20.2 MB\u001b[0m \u001b[31m60.1 MB/s\u001b[0m eta \u001b[36m0:00:00\u001b[0m00:01\u001b[0m00:01\u001b[0m\n",
      "\u001b[?25hInstalling collected packages: duckdb\n",
      "Successfully installed duckdb-1.2.2\n"
     ]
    }
   ],
   "source": [
    "!pip install duckdb==1.2.2\n",
    "import duckdb"
   ]
  },
  {
   "cell_type": "code",
   "execution_count": 3,
   "id": "655e7dde-ddd0-45de-a537-0435a3aa446e",
   "metadata": {},
   "outputs": [
    {
     "name": "stdout",
     "output_type": "stream",
     "text": [
      "Importing admissions from hw2_data/ADMISSIONS.csv\n",
      "Importing icustays from hw2_data/ICUSTAYS.csv\n",
      "Importing patients from hw2_data/PATIENTS.csv\n",
      "Importing procedures_icd from hw2_data/PROCEDURES_ICD.csv\n",
      "Importing d_icd_procedures from hw2_data/D_ICD_PROCEDURES.csv\n",
      "Importing drgcodes from hw2_data/DRGCODES.csv\n",
      "Importing prescriptions from hw2_data/PRESCRIPTIONS.csv\n"
     ]
    }
   ],
   "source": [
    "import duckdb\n",
    "import pandas as pd\n",
    "from pathlib import Path\n",
    "\n",
    "csv_dir = Path(\"hw2_data/\")\n",
    "db_path = \"mimic.duckdb\"\n",
    "conn = duckdb.connect(db_path)\n",
    "\n",
    "csv_files = {\n",
    "    \"ADMISSIONS.csv\": \"admissions\",\n",
    "    \"ICUSTAYS.csv\": \"icustays\",\n",
    "    \"PATIENTS.csv\": \"patients\",\n",
    "    \"PROCEDURES_ICD.csv\": \"procedures_icd\",\n",
    "    \"D_ICD_PROCEDURES.csv\": \"d_icd_procedures\",\n",
    "    \"DRGCODES.csv\": \"drgcodes\",\n",
    "    \"PRESCRIPTIONS.csv\": \"prescriptions\"\n",
    "}\n",
    "\n",
    "for csv_name, table_name in csv_files.items():\n",
    "    csv_path = csv_dir / csv_name\n",
    "    print(f\"Importing {table_name} from {csv_path}\")\n",
    "    conn.execute(f\"\"\"\n",
    "        CREATE OR REPLACE TABLE {table_name} AS \n",
    "        SELECT * FROM read_csv_auto('{csv_path.as_posix()}')\n",
    "    \"\"\")\n"
   ]
  },
  {
   "cell_type": "code",
   "execution_count": 4,
   "id": "667a802e-2310-44cc-9027-e574e82f5094",
   "metadata": {},
   "outputs": [
    {
     "data": {
      "text/plain": [
       "┌──────────────────┐\n",
       "│       name       │\n",
       "│     varchar      │\n",
       "├──────────────────┤\n",
       "│ admissions       │\n",
       "│ d_icd_procedures │\n",
       "│ drgcodes         │\n",
       "│ icustays         │\n",
       "│ patients         │\n",
       "│ prescriptions    │\n",
       "│ procedures_icd   │\n",
       "└──────────────────┘"
      ]
     },
     "execution_count": 4,
     "metadata": {},
     "output_type": "execute_result"
    }
   ],
   "source": [
    "conn.sql('SHOW TABLES;')"
   ]
  },
  {
   "cell_type": "code",
   "execution_count": 5,
   "id": "ce6bfea3-dc41-4519-93ec-d733af581e4c",
   "metadata": {},
   "outputs": [
    {
     "data": {
      "text/plain": [
       "┌───────────────────┬───────────┐\n",
       "│    column_name    │ data_type │\n",
       "│      varchar      │  varchar  │\n",
       "├───────────────────┼───────────┤\n",
       "│ row_id            │ BIGINT    │\n",
       "│ subject_id        │ BIGINT    │\n",
       "│ hadm_id           │ BIGINT    │\n",
       "│ icustay_id        │ BIGINT    │\n",
       "│ startdate         │ TIMESTAMP │\n",
       "│ enddate           │ TIMESTAMP │\n",
       "│ drug_type         │ VARCHAR   │\n",
       "│ drug              │ VARCHAR   │\n",
       "│ drug_name_poe     │ VARCHAR   │\n",
       "│ drug_name_generic │ VARCHAR   │\n",
       "│ formulary_drug_cd │ VARCHAR   │\n",
       "│ gsn               │ VARCHAR   │\n",
       "│ ndc               │ VARCHAR   │\n",
       "│ prod_strength     │ VARCHAR   │\n",
       "│ dose_val_rx       │ VARCHAR   │\n",
       "│ dose_unit_rx      │ VARCHAR   │\n",
       "│ form_val_disp     │ VARCHAR   │\n",
       "│ form_unit_disp    │ VARCHAR   │\n",
       "│ route             │ VARCHAR   │\n",
       "├───────────────────┴───────────┤\n",
       "│ 19 rows             2 columns │\n",
       "└───────────────────────────────┘"
      ]
     },
     "execution_count": 5,
     "metadata": {},
     "output_type": "execute_result"
    }
   ],
   "source": [
    "# metadata for a particular table\n",
    "conn.sql(\n",
    "    \"\"\"\n",
    "    SELECT column_name, data_type FROM information_schema.columns \n",
    "    WHERE table_name = 'prescriptions';\n",
    "    \"\"\"\n",
    ")"
   ]
  },
  {
   "cell_type": "code",
   "execution_count": 6,
   "id": "94a83c9a-9af4-42d9-adc6-3d0bf95cc10f",
   "metadata": {},
   "outputs": [
    {
     "data": {
      "text/plain": [
       "┌──────────────────────┬───────────┐\n",
       "│     column_name      │ data_type │\n",
       "│       varchar        │  varchar  │\n",
       "├──────────────────────┼───────────┤\n",
       "│ row_id               │ BIGINT    │\n",
       "│ subject_id           │ BIGINT    │\n",
       "│ hadm_id              │ BIGINT    │\n",
       "│ admittime            │ TIMESTAMP │\n",
       "│ dischtime            │ TIMESTAMP │\n",
       "│ deathtime            │ TIMESTAMP │\n",
       "│ admission_type       │ VARCHAR   │\n",
       "│ admission_location   │ VARCHAR   │\n",
       "│ discharge_location   │ VARCHAR   │\n",
       "│ insurance            │ VARCHAR   │\n",
       "│ language             │ VARCHAR   │\n",
       "│ religion             │ VARCHAR   │\n",
       "│ marital_status       │ VARCHAR   │\n",
       "│ ethnicity            │ VARCHAR   │\n",
       "│ edregtime            │ TIMESTAMP │\n",
       "│ edouttime            │ TIMESTAMP │\n",
       "│ diagnosis            │ VARCHAR   │\n",
       "│ hospital_expire_flag │ BIGINT    │\n",
       "│ has_chartevents_data │ BIGINT    │\n",
       "├──────────────────────┴───────────┤\n",
       "│ 19 rows                2 columns │\n",
       "└──────────────────────────────────┘"
      ]
     },
     "execution_count": 6,
     "metadata": {},
     "output_type": "execute_result"
    }
   ],
   "source": [
    "# metadata for a particular table\n",
    "conn.sql(\n",
    "    \"\"\"\n",
    "    SELECT column_name, data_type FROM information_schema.columns \n",
    "    WHERE table_name = 'admissions';\n",
    "    \"\"\"\n",
    ")"
   ]
  },
  {
   "cell_type": "code",
   "execution_count": 7,
   "id": "d777ee81-24b6-4c4e-b301-79dcdf9082e3",
   "metadata": {},
   "outputs": [
    {
     "data": {
      "text/plain": [
       "┌──────────────────────────────────────────────────────────┬──────────────────────┬─────────────────────┐\n",
       "│                        ethnicity                         │         drug         │ total_prescriptions │\n",
       "│                         varchar                          │       varchar        │        int64        │\n",
       "├──────────────────────────────────────────────────────────┼──────────────────────┼─────────────────────┤\n",
       "│ AMERICAN INDIAN/ALASKA NATIVE FEDERALLY RECOGNIZED TRIBE │ 5% Dextrose          │                  27 │\n",
       "│ ASIAN                                                    │ D5W                  │                  27 │\n",
       "│ BLACK/AFRICAN AMERICAN                                   │ Insulin              │                  38 │\n",
       "│ HISPANIC OR LATINO                                       │ 5% Dextrose          │                  28 │\n",
       "│ HISPANIC/LATINO - PUERTO RICAN                           │ 0.9% Sodium Chloride │                  86 │\n",
       "│ OTHER                                                    │ NS                   │                  11 │\n",
       "│ UNABLE TO OBTAIN                                         │ 0.9% Sodium Chloride │                  28 │\n",
       "│ UNKNOWN/NOT SPECIFIED                                    │ D5W                  │                  37 │\n",
       "│ WHITE                                                    │ Potassium Chloride   │                 381 │\n",
       "└──────────────────────────────────────────────────────────┴──────────────────────┴─────────────────────┘"
      ]
     },
     "execution_count": 7,
     "metadata": {},
     "output_type": "execute_result"
    }
   ],
   "source": [
    "conn.sql(\n",
    "    \"\"\"\n",
    "    SELECT\n",
    "        a.ethnicity,\n",
    "        p.drug,\n",
    "        COUNT(*) AS total_prescriptions\n",
    "    FROM prescriptions p\n",
    "    JOIN admissions a\n",
    "        ON p.hadm_id = a.hadm_id\n",
    "    WHERE p.drug IS NOT NULL\n",
    "    GROUP BY a.ethnicity, p.drug\n",
    "    QUALIFY ROW_NUMBER() OVER (PARTITION BY a.ethnicity ORDER BY COUNT(*) DESC) = 1\n",
    "    ORDER BY a.ethnicity;\n",
    "    \"\"\"\n",
    ")\n"
   ]
  },
  {
   "cell_type": "code",
   "execution_count": 8,
   "id": "636c5308-dd36-4351-b4b9-16849d7e778d",
   "metadata": {},
   "outputs": [
    {
     "data": {
      "text/plain": [
       "┌─────────────┬───────────┐\n",
       "│ column_name │ data_type │\n",
       "│   varchar   │  varchar  │\n",
       "├─────────────┼───────────┤\n",
       "│ row_id      │ BIGINT    │\n",
       "│ subject_id  │ BIGINT    │\n",
       "│ hadm_id     │ BIGINT    │\n",
       "│ seq_num     │ BIGINT    │\n",
       "│ icd9_code   │ VARCHAR   │\n",
       "└─────────────┴───────────┘"
      ]
     },
     "execution_count": 8,
     "metadata": {},
     "output_type": "execute_result"
    }
   ],
   "source": [
    "# metadata for a particular table\n",
    "conn.sql(\n",
    "    \"\"\"\n",
    "    SELECT column_name, data_type FROM information_schema.columns \n",
    "    WHERE table_name = 'procedures_icd';\n",
    "    \"\"\"\n",
    ")"
   ]
  },
  {
   "cell_type": "code",
   "execution_count": 9,
   "id": "09e48cdf-be8c-495a-8997-8ee54e880fa9",
   "metadata": {},
   "outputs": [
    {
     "data": {
      "text/plain": [
       "┌─────────────┬───────────┐\n",
       "│ column_name │ data_type │\n",
       "│   varchar   │  varchar  │\n",
       "├─────────────┼───────────┤\n",
       "│ row_id      │ BIGINT    │\n",
       "│ subject_id  │ BIGINT    │\n",
       "│ gender      │ VARCHAR   │\n",
       "│ dob         │ TIMESTAMP │\n",
       "│ dod         │ TIMESTAMP │\n",
       "│ dod_hosp    │ TIMESTAMP │\n",
       "│ dod_ssn     │ TIMESTAMP │\n",
       "│ expire_flag │ BIGINT    │\n",
       "└─────────────┴───────────┘"
      ]
     },
     "execution_count": 9,
     "metadata": {},
     "output_type": "execute_result"
    }
   ],
   "source": [
    "# metadata for a particular table\n",
    "conn.sql(\n",
    "    \"\"\"\n",
    "    SELECT column_name, data_type FROM information_schema.columns \n",
    "    WHERE table_name = 'patients';\n",
    "    \"\"\"\n",
    ")"
   ]
  },
  {
   "cell_type": "code",
   "execution_count": 10,
   "id": "bb1fc6ad-b7f4-4ffd-9016-8720b6d95fc4",
   "metadata": {},
   "outputs": [
    {
     "data": {
      "text/plain": [
       "┌───────────┬──────────────────────────┬─────────────────┬───────┐\n",
       "│ age_group │      procedure_name      │ procedure_count │ rank  │\n",
       "│  varchar  │         varchar          │      int64      │ int64 │\n",
       "├───────────┼──────────────────────────┼─────────────────┼───────┤\n",
       "│ 20-49     │ Venous cath NEC          │              11 │     1 │\n",
       "│ 20-49     │ Entral infus nutrit sub  │              11 │     2 │\n",
       "│ 20-49     │ Insert endotracheal tube │               9 │     3 │\n",
       "│ 50-79     │ Venous cath NEC          │             185 │     1 │\n",
       "│ 50-79     │ Entral infus nutrit sub  │             170 │     2 │\n",
       "│ 50-79     │ Insert endotracheal tube │              51 │     3 │\n",
       "│ <=19      │ Venous cath NEC          │               3 │     1 │\n",
       "│ <=19      │ Skin closure NEC         │               2 │     2 │\n",
       "│ <=19      │ Percu endosc gastrostomy │               1 │     3 │\n",
       "│ >=80      │ Venous cath NEC          │              22 │     1 │\n",
       "│ >=80      │ Packed cell transfusion  │              16 │     2 │\n",
       "│ >=80      │ Insert endotracheal tube │               9 │     3 │\n",
       "├───────────┴──────────────────────────┴─────────────────┴───────┤\n",
       "│ 12 rows                                              4 columns │\n",
       "└────────────────────────────────────────────────────────────────┘"
      ]
     },
     "execution_count": 10,
     "metadata": {},
     "output_type": "execute_result"
    }
   ],
   "source": [
    "conn.sql(\n",
    "    \"\"\"\n",
    "    WITH patient_ages AS (\n",
    "    SELECT\n",
    "        p.subject_id,\n",
    "        FLOOR((CAST(a.admittime AS DATE) - CAST(p.dob AS DATE)) / 365.25) AS age\n",
    "    FROM patients p\n",
    "    JOIN admissions a ON p.subject_id = a.subject_id\n",
    "    ),\n",
    "\n",
    "    age_groups AS (\n",
    "        SELECT subject_id,\n",
    "            CASE \n",
    "                WHEN age <= 19 THEN '<=19'\n",
    "                WHEN age BETWEEN 20 AND 49 THEN '20-49'\n",
    "                WHEN age BETWEEN 50 AND 79 THEN '50-79'\n",
    "                ELSE '>=80'\n",
    "            END AS age_group\n",
    "        FROM patient_ages\n",
    "    ),\n",
    "\n",
    "    procedure_summary AS (\n",
    "        SELECT\n",
    "            ag.age_group,\n",
    "            d.short_title AS procedure_name,\n",
    "            COUNT(*) AS procedure_count\n",
    "        FROM procedures_icd pi\n",
    "        JOIN age_groups ag ON pi.subject_id = ag.subject_id\n",
    "        LEFT JOIN d_icd_procedures d ON pi.icd9_code = d.icd9_code\n",
    "        GROUP BY ag.age_group, procedure_name\n",
    "    )\n",
    "    \n",
    "    SELECT *\n",
    "    FROM (\n",
    "        SELECT *,\n",
    "            ROW_NUMBER() OVER (PARTITION BY age_group ORDER BY procedure_count DESC) AS rank\n",
    "        FROM procedure_summary\n",
    "    )\n",
    "    WHERE rank <= 3\n",
    "    ORDER BY age_group, rank;\n",
    "    \"\"\"\n",
    ")"
   ]
  },
  {
   "cell_type": "code",
   "execution_count": 11,
   "id": "a821ca92-bf5d-4abe-aca3-49d48c7d1fd0",
   "metadata": {},
   "outputs": [
    {
     "data": {
      "text/plain": [
       "┌─────────┬──────────────────────────────────────────────────────────┬──────────────┐\n",
       "│ gender  │                        ethnicity                         │ avg_icu_days │\n",
       "│ varchar │                         varchar                          │    double    │\n",
       "├─────────┼──────────────────────────────────────────────────────────┼──────────────┤\n",
       "│ F       │ ASIAN                                                    │          0.7 │\n",
       "│ F       │ BLACK/AFRICAN AMERICAN                                   │         11.2 │\n",
       "│ F       │ HISPANIC OR LATINO                                       │          7.5 │\n",
       "│ F       │ OTHER                                                    │          1.3 │\n",
       "│ F       │ UNKNOWN/NOT SPECIFIED                                    │          5.5 │\n",
       "│ F       │ WHITE                                                    │          5.2 │\n",
       "│ M       │ AMERICAN INDIAN/ALASKA NATIVE FEDERALLY RECOGNIZED TRIBE │         11.3 │\n",
       "│ M       │ ASIAN                                                    │          7.1 │\n",
       "│ M       │ BLACK/AFRICAN AMERICAN                                   │          3.0 │\n",
       "│ M       │ HISPANIC/LATINO - PUERTO RICAN                           │          3.2 │\n",
       "│ M       │ OTHER                                                    │          0.1 │\n",
       "│ M       │ UNABLE TO OBTAIN                                         │         13.4 │\n",
       "│ M       │ UNKNOWN/NOT SPECIFIED                                    │          2.1 │\n",
       "│ M       │ WHITE                                                    │          3.2 │\n",
       "├─────────┴──────────────────────────────────────────────────────────┴──────────────┤\n",
       "│ 14 rows                                                                 3 columns │\n",
       "└───────────────────────────────────────────────────────────────────────────────────┘"
      ]
     },
     "execution_count": 11,
     "metadata": {},
     "output_type": "execute_result"
    }
   ],
   "source": [
    "conn.sql(\n",
    "    \"\"\"\n",
    "    WITH icu_los AS (\n",
    "        SELECT\n",
    "            icustays.subject_id,\n",
    "            icustays.hadm_id,\n",
    "            EXTRACT(EPOCH FROM icustays.outtime - icustays.intime) / 3600.0 AS los_hours\n",
    "        FROM icustays\n",
    "    ),\n",
    "\n",
    "    joined AS (\n",
    "        SELECT\n",
    "            los_hours / 24.0 AS los_days,\n",
    "            patients.gender,\n",
    "            admissions.ethnicity\n",
    "        FROM icu_los\n",
    "        JOIN patients ON icu_los.subject_id = patients.subject_id\n",
    "        JOIN admissions ON icu_los.hadm_id = admissions.hadm_id\n",
    "    )\n",
    "\n",
    "    SELECT \n",
    "        gender,\n",
    "        ethnicity,\n",
    "\n",
    "        ROUND(AVG(los_days), 1) AS avg_icu_days\n",
    "    \n",
    "    FROM joined\n",
    "    GROUP BY gender, ethnicity\n",
    "    ORDER BY gender, ethnicity;\n",
    "    \"\"\"\n",
    "    )\n",
    "\n"
   ]
  },
  {
   "cell_type": "code",
   "execution_count": 12,
   "id": "65162914-8378-4cdf-93b1-1a43d1a47aa7",
   "metadata": {},
   "outputs": [
    {
     "name": "stdout",
     "output_type": "stream",
     "text": [
      "  % Total    % Received % Xferd  Average Speed   Time    Time     Time  Current\n",
      "                                 Dload  Upload   Total   Spent    Left  Speed\n",
      "100  1468  100  1468    0     0   6095      0 --:--:-- --:--:-- --:--:--  6091\n"
     ]
    }
   ],
   "source": [
    "!curl https://certs.secureserver.net/repository/sf-class2-root.crt -O"
   ]
  },
  {
   "cell_type": "code",
   "execution_count": 13,
   "id": "13684119-1950-43f8-beae-f77b00ef8928",
   "metadata": {},
   "outputs": [
    {
     "name": "stdout",
     "output_type": "stream",
     "text": [
      "Collecting cassandra-sigv4\n",
      "  Downloading cassandra_sigv4-4.0.2-py2.py3-none-any.whl.metadata (5.9 kB)\n",
      "Collecting cassandra-driver (from cassandra-sigv4)\n",
      "  Downloading cassandra_driver-3.29.2-cp311-cp311-manylinux_2_17_x86_64.manylinux2014_x86_64.whl.metadata (6.2 kB)\n",
      "Collecting boto3 (from cassandra-sigv4)\n",
      "  Downloading boto3-1.38.12-py3-none-any.whl.metadata (6.6 kB)\n",
      "Requirement already satisfied: six in /opt/conda/lib/python3.11/site-packages (from cassandra-sigv4) (1.16.0)\n",
      "Collecting botocore<1.39.0,>=1.38.12 (from boto3->cassandra-sigv4)\n",
      "  Downloading botocore-1.38.12-py3-none-any.whl.metadata (5.7 kB)\n",
      "Collecting jmespath<2.0.0,>=0.7.1 (from boto3->cassandra-sigv4)\n",
      "  Downloading jmespath-1.0.1-py3-none-any.whl.metadata (7.6 kB)\n",
      "Collecting s3transfer<0.13.0,>=0.12.0 (from boto3->cassandra-sigv4)\n",
      "  Downloading s3transfer-0.12.0-py3-none-any.whl.metadata (1.7 kB)\n",
      "Collecting geomet<0.3,>=0.1 (from cassandra-driver->cassandra-sigv4)\n",
      "  Downloading geomet-0.2.1.post1-py3-none-any.whl.metadata (1.0 kB)\n",
      "Requirement already satisfied: python-dateutil<3.0.0,>=2.1 in /opt/conda/lib/python3.11/site-packages (from botocore<1.39.0,>=1.38.12->boto3->cassandra-sigv4) (2.8.2)\n",
      "Requirement already satisfied: urllib3!=2.2.0,<3,>=1.25.4 in /opt/conda/lib/python3.11/site-packages (from botocore<1.39.0,>=1.38.12->boto3->cassandra-sigv4) (2.0.7)\n",
      "Requirement already satisfied: click in /opt/conda/lib/python3.11/site-packages (from geomet<0.3,>=0.1->cassandra-driver->cassandra-sigv4) (8.1.7)\n",
      "Downloading cassandra_sigv4-4.0.2-py2.py3-none-any.whl (9.8 kB)\n",
      "Downloading boto3-1.38.12-py3-none-any.whl (139 kB)\n",
      "\u001b[2K   \u001b[90m━━━━━━━━━━━━━━━━━━━━━━━━━━━━━━━━━━━━━━━━\u001b[0m \u001b[32m139.9/139.9 kB\u001b[0m \u001b[31m12.0 MB/s\u001b[0m eta \u001b[36m0:00:00\u001b[0m\n",
      "\u001b[?25hDownloading cassandra_driver-3.29.2-cp311-cp311-manylinux_2_17_x86_64.manylinux2014_x86_64.whl (3.9 MB)\n",
      "\u001b[2K   \u001b[90m━━━━━━━━━━━━━━━━━━━━━━━━━━━━━━━━━━━━━━━━\u001b[0m \u001b[32m3.9/3.9 MB\u001b[0m \u001b[31m75.2 MB/s\u001b[0m eta \u001b[36m0:00:00\u001b[0m:00:01\u001b[0m\n",
      "\u001b[?25hDownloading botocore-1.38.12-py3-none-any.whl (13.5 MB)\n",
      "\u001b[2K   \u001b[90m━━━━━━━━━━━━━━━━━━━━━━━━━━━━━━━━━━━━━━━━\u001b[0m \u001b[32m13.5/13.5 MB\u001b[0m \u001b[31m8.9 MB/s\u001b[0m eta \u001b[36m0:00:00\u001b[0m:00:01\u001b[0m00:01\u001b[0m\n",
      "\u001b[?25hDownloading geomet-0.2.1.post1-py3-none-any.whl (18 kB)\n",
      "Downloading jmespath-1.0.1-py3-none-any.whl (20 kB)\n",
      "Downloading s3transfer-0.12.0-py3-none-any.whl (84 kB)\n",
      "\u001b[2K   \u001b[90m━━━━━━━━━━━━━━━━━━━━━━━━━━━━━━━━━━━━━━━━\u001b[0m \u001b[32m84.8/84.8 kB\u001b[0m \u001b[31m10.1 MB/s\u001b[0m eta \u001b[36m0:00:00\u001b[0m\n",
      "\u001b[?25hInstalling collected packages: jmespath, geomet, cassandra-driver, botocore, s3transfer, boto3, cassandra-sigv4\n",
      "Successfully installed boto3-1.38.12 botocore-1.38.12 cassandra-driver-3.29.2 cassandra-sigv4-4.0.2 geomet-0.2.1.post1 jmespath-1.0.1 s3transfer-0.12.0\n",
      "Note: you may need to restart the kernel to use updated packages.\n",
      "Requirement already satisfied: boto3 in /opt/conda/lib/python3.11/site-packages (1.38.12)\n",
      "Requirement already satisfied: botocore<1.39.0,>=1.38.12 in /opt/conda/lib/python3.11/site-packages (from boto3) (1.38.12)\n",
      "Requirement already satisfied: jmespath<2.0.0,>=0.7.1 in /opt/conda/lib/python3.11/site-packages (from boto3) (1.0.1)\n",
      "Requirement already satisfied: s3transfer<0.13.0,>=0.12.0 in /opt/conda/lib/python3.11/site-packages (from boto3) (0.12.0)\n",
      "Requirement already satisfied: python-dateutil<3.0.0,>=2.1 in /opt/conda/lib/python3.11/site-packages (from botocore<1.39.0,>=1.38.12->boto3) (2.8.2)\n",
      "Requirement already satisfied: urllib3!=2.2.0,<3,>=1.25.4 in /opt/conda/lib/python3.11/site-packages (from botocore<1.39.0,>=1.38.12->boto3) (2.0.7)\n",
      "Requirement already satisfied: six>=1.5 in /opt/conda/lib/python3.11/site-packages (from python-dateutil<3.0.0,>=2.1->botocore<1.39.0,>=1.38.12->boto3) (1.16.0)\n",
      "Note: you may need to restart the kernel to use updated packages.\n"
     ]
    }
   ],
   "source": [
    "%pip install cassandra-sigv4\n",
    "%pip install boto3"
   ]
  },
  {
   "cell_type": "code",
   "execution_count": 14,
   "id": "95e6b55d-a2cd-44eb-bc5e-378a5cbde5b7",
   "metadata": {},
   "outputs": [
    {
     "name": "stderr",
     "output_type": "stream",
     "text": [
      "/tmp/ipykernel_523/332746716.py:7: DeprecationWarning: ssl.PROTOCOL_TLSv1_2 is deprecated\n",
      "  ssl_context = SSLContext(PROTOCOL_TLSv1_2)\n"
     ]
    }
   ],
   "source": [
    "from cassandra.cluster import Cluster\n",
    "from ssl import SSLContext, PROTOCOL_TLSv1_2, CERT_REQUIRED\n",
    "from cassandra_sigv4.auth import SigV4AuthProvider\n",
    "import boto3\n",
    "\n",
    "# ssl setup\n",
    "ssl_context = SSLContext(PROTOCOL_TLSv1_2)\n",
    "ssl_context.load_verify_locations('sf-class2-root.crt')  # change your file path for locating the certificate\n",
    "ssl_context.verify_mode = CERT_REQUIRED\n",
    "\n",
    "# boto3 session setup\n",
    "boto_session = boto3.Session(region_name=\"us-east-2\")  # this AWS credentials is specific to `us-east-2` region"
   ]
  },
  {
   "cell_type": "code",
   "execution_count": 15,
   "id": "c1b42576-aa13-416a-9471-b246ff5a8e3e",
   "metadata": {},
   "outputs": [],
   "source": [
    "# authorization setup with SigV4\n",
    "auth_provider = SigV4AuthProvider(boto_session)"
   ]
  },
  {
   "cell_type": "code",
   "execution_count": 16,
   "id": "3dbfc760-0833-436f-8bb4-72c4c5cb42fc",
   "metadata": {},
   "outputs": [],
   "source": [
    "#cluster setup \n",
    "cluster = Cluster(['cassandra.us-east-2.amazonaws.com'], \n",
    "                  ssl_context=ssl_context, \n",
    "                  auth_provider=auth_provider, \n",
    "                  port=9142)  # TLS only communicates on port 9142"
   ]
  },
  {
   "cell_type": "code",
   "execution_count": 17,
   "id": "3865d273-bdd0-427e-8377-c457795e896c",
   "metadata": {},
   "outputs": [],
   "source": [
    "# establishing connection to Keyspace\n",
    "session = cluster.connect()"
   ]
  },
  {
   "cell_type": "code",
   "execution_count": 18,
   "id": "95743858-dc47-41a8-8153-8a93ee33265a",
   "metadata": {},
   "outputs": [
    {
     "name": "stdout",
     "output_type": "stream",
     "text": [
      "[Row(keyspace_name='system_schema', durable_writes=True, replication=OrderedMapSerializedKey([('class', 'org.apache.cassandra.locator.SimpleStrategy'), ('replication_factor', '3')])), Row(keyspace_name='system_schema_mcs', durable_writes=True, replication=OrderedMapSerializedKey([('class', 'org.apache.cassandra.locator.SimpleStrategy'), ('replication_factor', '3')])), Row(keyspace_name='system', durable_writes=True, replication=OrderedMapSerializedKey([('class', 'org.apache.cassandra.locator.SimpleStrategy'), ('replication_factor', '3')])), Row(keyspace_name='system_multiregion_info', durable_writes=True, replication=OrderedMapSerializedKey([('class', 'org.apache.cassandra.locator.SimpleStrategy'), ('replication_factor', '3')])), Row(keyspace_name='aet7207_hw2', durable_writes=True, replication=OrderedMapSerializedKey([('class', 'org.apache.cassandra.locator.SimpleStrategy'), ('replication_factor', '3')])), Row(keyspace_name='can1469_hw02', durable_writes=True, replication=OrderedMapSerializedKey([('class', 'org.apache.cassandra.locator.SimpleStrategy'), ('replication_factor', '3')])), Row(keyspace_name='de300_axc4282', durable_writes=True, replication=OrderedMapSerializedKey([('class', 'org.apache.cassandra.locator.SimpleStrategy'), ('replication_factor', '3')])), Row(keyspace_name='de300_demo', durable_writes=True, replication=OrderedMapSerializedKey([('class', 'org.apache.cassandra.locator.SimpleStrategy'), ('replication_factor', '3')])), Row(keyspace_name='de300_homework2', durable_writes=True, replication=OrderedMapSerializedKey([('class', 'org.apache.cassandra.locator.SimpleStrategy'), ('replication_factor', '3')])), Row(keyspace_name='de300_hw2', durable_writes=True, replication=OrderedMapSerializedKey([('class', 'org.apache.cassandra.locator.SimpleStrategy'), ('replication_factor', '3')])), Row(keyspace_name='de300_hw2_2176', durable_writes=True, replication=OrderedMapSerializedKey([('class', 'org.apache.cassandra.locator.SimpleStrategy'), ('replication_factor', '3')])), Row(keyspace_name='de300_hw2_daniel', durable_writes=True, replication=OrderedMapSerializedKey([('class', 'org.apache.cassandra.locator.SimpleStrategy'), ('replication_factor', '3')])), Row(keyspace_name='de300_hw2_nkim', durable_writes=True, replication=OrderedMapSerializedKey([('class', 'org.apache.cassandra.locator.SimpleStrategy'), ('replication_factor', '3')])), Row(keyspace_name='de300_lab4', durable_writes=True, replication=OrderedMapSerializedKey([('class', 'org.apache.cassandra.locator.SimpleStrategy'), ('replication_factor', '3')])), Row(keyspace_name='de300_lrg4668', durable_writes=True, replication=OrderedMapSerializedKey([('class', 'org.apache.cassandra.locator.SimpleStrategy'), ('replication_factor', '3')])), Row(keyspace_name='de300_mkr3798', durable_writes=True, replication=OrderedMapSerializedKey([('class', 'org.apache.cassandra.locator.SimpleStrategy'), ('replication_factor', '3')])), Row(keyspace_name='de300_otl3325', durable_writes=True, replication=OrderedMapSerializedKey([('class', 'org.apache.cassandra.locator.SimpleStrategy'), ('replication_factor', '3')])), Row(keyspace_name='de300_sabian_hw2', durable_writes=True, replication=OrderedMapSerializedKey([('class', 'org.apache.cassandra.locator.SimpleStrategy'), ('replication_factor', '3')])), Row(keyspace_name='de300_sabian_lab4', durable_writes=True, replication=OrderedMapSerializedKey([('class', 'org.apache.cassandra.locator.SimpleStrategy'), ('replication_factor', '3')])), Row(keyspace_name='de300_ttk6623', durable_writes=True, replication=OrderedMapSerializedKey([('class', 'org.apache.cassandra.locator.SimpleStrategy'), ('replication_factor', '3')])), Row(keyspace_name='dlw8642_de300_hw2', durable_writes=True, replication=OrderedMapSerializedKey([('class', 'org.apache.cassandra.locator.SimpleStrategy'), ('replication_factor', '3')])), Row(keyspace_name='dse300_lab1', durable_writes=True, replication=OrderedMapSerializedKey([('class', 'org.apache.cassandra.locator.SimpleStrategy'), ('replication_factor', '3')])), Row(keyspace_name='dse300_lab4', durable_writes=True, replication=OrderedMapSerializedKey([('class', 'org.apache.cassandra.locator.SimpleStrategy'), ('replication_factor', '3')])), Row(keyspace_name='eks6660_hw2', durable_writes=True, replication=OrderedMapSerializedKey([('class', 'org.apache.cassandra.locator.SimpleStrategy'), ('replication_factor', '3')])), Row(keyspace_name='homework2', durable_writes=True, replication=OrderedMapSerializedKey([('class', 'org.apache.cassandra.locator.SimpleStrategy'), ('replication_factor', '3')])), Row(keyspace_name='mimic', durable_writes=True, replication=OrderedMapSerializedKey([('class', 'org.apache.cassandra.locator.SimpleStrategy'), ('replication_factor', '3')])), Row(keyspace_name='new2713', durable_writes=True, replication=OrderedMapSerializedKey([('class', 'org.apache.cassandra.locator.SimpleStrategy'), ('replication_factor', '3')])), Row(keyspace_name='part2cassandra', durable_writes=True, replication=OrderedMapSerializedKey([('class', 'org.apache.cassandra.locator.SimpleStrategy'), ('replication_factor', '3')])), Row(keyspace_name='ryan_beam', durable_writes=True, replication=OrderedMapSerializedKey([('class', 'org.apache.cassandra.locator.SimpleStrategy'), ('replication_factor', '3')])), Row(keyspace_name='seeley_hw2', durable_writes=True, replication=OrderedMapSerializedKey([('class', 'org.apache.cassandra.locator.SimpleStrategy'), ('replication_factor', '3')]))]\n"
     ]
    }
   ],
   "source": [
    "# Insert any CQL queries between .connect() and .shutdown()\n",
    "\n",
    "# For example, show all keyspaces created\n",
    "r = session.execute('''\n",
    "    SELECT * FROM system_schema.keyspaces;\n",
    "    ''')\n",
    "print(r.current_rows)"
   ]
  },
  {
   "cell_type": "code",
   "execution_count": 19,
   "id": "76f237f1-fae0-4a5a-86cc-e0555410687e",
   "metadata": {},
   "outputs": [
    {
     "data": {
      "text/plain": [
       "<cassandra.cluster.ResultSet at 0x7fbc82bf6710>"
      ]
     },
     "execution_count": 19,
     "metadata": {},
     "output_type": "execute_result"
    }
   ],
   "source": [
    "session.execute(\"\"\"\n",
    "    CREATE KEYSPACE IF NOT EXISTS mimic\n",
    "    WITH replication = {\n",
    "        'class': 'SingleRegionStrategy'\n",
    "    };\n",
    "\"\"\")"
   ]
  },
  {
   "cell_type": "code",
   "execution_count": 20,
   "id": "1769bf25-6ad9-4d1d-82db-b73d217f8088",
   "metadata": {},
   "outputs": [],
   "source": [
    "session.set_keyspace('mimic')"
   ]
  },
  {
   "cell_type": "code",
   "execution_count": 23,
   "id": "4f9f932d-05c9-41c2-bbf6-69138696c7fc",
   "metadata": {},
   "outputs": [],
   "source": [
    "import os\n",
    "import pandas as pd\n",
    "from cassandra.query import SimpleStatement\n",
    "from cassandra import ConsistencyLevel"
   ]
  },
  {
   "cell_type": "code",
   "execution_count": 24,
   "id": "1b6880fb-fc10-4bae-8e69-6aa63d1e715f",
   "metadata": {},
   "outputs": [],
   "source": [
    "csv_folder = 'hw2_data'  # Adjust if your folder is in a different location\n",
    "csv_files = [f for f in os.listdir(csv_folder) if f.endswith('.csv')]\n",
    "\n",
    "dfs = {}\n",
    "for file in csv_files:\n",
    "    path = os.path.join(csv_folder, file)\n",
    "    df = pd.read_csv(path)\n",
    "    table_name = os.path.splitext(file)[0].lower().replace(\"-\", \"_\").replace(\" \", \"_\")\n",
    "    dfs[table_name] = df\n"
   ]
  },
  {
   "cell_type": "code",
   "execution_count": 25,
   "id": "a6ee5a96-b3a8-468d-880d-10ef48308112",
   "metadata": {},
   "outputs": [
    {
     "name": "stdout",
     "output_type": "stream",
     "text": [
      "Created table: drgcodes\n",
      "Created table: icustays\n",
      "Created table: patients\n",
      "Created table: procedures_icd\n",
      "Created table: admissions\n",
      "Created table: d_icd_procedures\n",
      "Created table: prescriptions\n"
     ]
    }
   ],
   "source": [
    "def cassandra_type(dtype):\n",
    "    if pd.api.types.is_integer_dtype(dtype):\n",
    "        return \"INT\"\n",
    "    elif pd.api.types.is_float_dtype(dtype):\n",
    "        return \"DOUBLE\"\n",
    "    else:\n",
    "        return \"TEXT\"\n",
    "\n",
    "for table_name, df in dfs.items():\n",
    "    if df.empty:\n",
    "        print(f\"Skipping empty file: {table_name}\")\n",
    "        continue\n",
    "\n",
    "    column_defs = \",\\n    \".join(\n",
    "        f\"{col.lower().replace(' ', '_')} {cassandra_type(df[col])}\" for col in df.columns\n",
    "    )\n",
    "\n",
    "    primary_key = df.columns[0].lower().replace(\" \", \"_\")  # basic default; change if needed\n",
    "\n",
    "    create_stmt = f\"\"\"\n",
    "    CREATE TABLE IF NOT EXISTS {table_name} (\n",
    "        {column_defs},\n",
    "        PRIMARY KEY ({primary_key})\n",
    "    );\n",
    "    \"\"\"\n",
    "    \n",
    "    session.execute(SimpleStatement(create_stmt, consistency_level=ConsistencyLevel.LOCAL_QUORUM))\n",
    "    print(f\"Created table: {table_name}\")\n"
   ]
  },
  {
   "cell_type": "code",
   "execution_count": 26,
   "id": "b18f24e0-ca5b-47b2-ab6c-cb5d3fc8cfa1",
   "metadata": {},
   "outputs": [
    {
     "name": "stdout",
     "output_type": "stream",
     "text": [
      "Inserted data into: drgcodes\n",
      "Inserted data into: icustays\n",
      "Inserted data into: patients\n",
      "Inserted data into: procedures_icd\n",
      "Inserted data into: admissions\n",
      "Inserted data into: d_icd_procedures\n",
      "Inserted data into: prescriptions\n"
     ]
    }
   ],
   "source": [
    "for table_name, df in dfs.items():\n",
    "    if df.empty:\n",
    "        continue\n",
    "\n",
    "    df.columns = [col.lower().replace(\" \", \"_\") for col in df.columns]\n",
    "    col_names = \", \".join(df.columns)\n",
    "    placeholders = \", \".join([\"%s\"] * len(df.columns))\n",
    "    \n",
    "    insert_stmt = SimpleStatement(\n",
    "        f\"INSERT INTO {table_name} ({col_names}) VALUES ({placeholders})\",\n",
    "        consistency_level=ConsistencyLevel.LOCAL_QUORUM\n",
    "    )\n",
    "\n",
    "    for _, row in df.iterrows():\n",
    "        values = [None if pd.isna(v) else v for v in row.tolist()]\n",
    "        session.execute(insert_stmt, tuple(values))\n",
    "    \n",
    "    print(f\"Inserted data into: {table_name}\")\n"
   ]
  },
  {
   "cell_type": "code",
   "execution_count": 27,
   "id": "277558a3-234a-4da2-a9b9-23d876d83448",
   "metadata": {},
   "outputs": [
    {
     "name": "stdout",
     "output_type": "stream",
     "text": [
      "Row(row_id=75209, description='CHRONIC OBSTRUCTIVE PULMONARY DISEASE W CC', drg_code=191, drg_mortality=None, drg_severity=None, drg_type='MS', hadm_id=128293, subject_id=42275)\n",
      "Row(row_id=66128, description='Head Trauma w/ Coma > 1 Hr or Hemorrhage', drg_code=553, drg_mortality=3.0, drg_severity=3.0, drg_type='APR ', hadm_id=186071, subject_id=43779)\n",
      "Row(row_id=7125, description='SIMPLE PNEUMONIA & PLEURISY AGE >17 WITH COMPLICATIONS, COMORBIDITIES', drg_code=89, drg_mortality=None, drg_severity=None, drg_type='HCFA', hadm_id=105150, subject_id=10117)\n",
      "Row(row_id=59531, description='Heart Failure', drg_code=1942, drg_mortality=2.0, drg_severity=2.0, drg_type='APR ', hadm_id=161765, subject_id=40456)\n",
      "Row(row_id=125347, description='Septicemia & Disseminated Infections', drg_code=7204, drg_mortality=4.0, drg_severity=4.0, drg_type='APR ', hadm_id=149469, subject_id=41976)\n"
     ]
    }
   ],
   "source": [
    "rows = session.execute(f\"SELECT * FROM {list(dfs.keys())[0]} LIMIT 5;\")\n",
    "for row in rows:\n",
    "    print(row)\n"
   ]
  },
  {
   "cell_type": "code",
   "execution_count": 28,
   "id": "4387b044-1929-4610-b5a4-3aa9feafe5e9",
   "metadata": {},
   "outputs": [],
   "source": [
    "prescriptions = session.execute(\"SELECT hadm_id, drug FROM prescriptions;\")\n",
    "admissions = session.execute(\"SELECT hadm_id, ethnicity FROM admissions;\")\n"
   ]
  },
  {
   "cell_type": "code",
   "execution_count": 29,
   "id": "0b58048d-462c-4216-a490-ad4314b09dbf",
   "metadata": {},
   "outputs": [],
   "source": [
    "hadm_to_ethnicity = {}\n",
    "for row in admissions:\n",
    "    if row.ethnicity:\n",
    "        hadm_to_ethnicity[row.hadm_id] = row.ethnicity\n"
   ]
  },
  {
   "cell_type": "code",
   "execution_count": 30,
   "id": "67534a0f-f8b0-47a7-860a-14a687977f9c",
   "metadata": {},
   "outputs": [
    {
     "name": "stdout",
     "output_type": "stream",
     "text": [
      "AMERICAN INDIAN/ALASKA NATIVE FEDERALLY RECOGNIZED TRIBE: 5% Dextrose (27 prescriptions)\n",
      "WHITE: Potassium Chloride (381 prescriptions)\n",
      "HISPANIC/LATINO - PUERTO RICAN: 0.9% Sodium Chloride (86 prescriptions)\n",
      "BLACK/AFRICAN AMERICAN: Insulin (38 prescriptions)\n",
      "UNKNOWN/NOT SPECIFIED: D5W (37 prescriptions)\n",
      "HISPANIC OR LATINO: 5% Dextrose (28 prescriptions)\n",
      "OTHER: NS (11 prescriptions)\n",
      "ASIAN: D5W (27 prescriptions)\n",
      "UNABLE TO OBTAIN: 0.9% Sodium Chloride (28 prescriptions)\n"
     ]
    }
   ],
   "source": [
    "from collections import defaultdict, Counter\n",
    "\n",
    "ethnicity_drug_counts = defaultdict(Counter)\n",
    "\n",
    "for row in prescriptions:\n",
    "    ethnicity = hadm_to_ethnicity.get(row.hadm_id)\n",
    "    if ethnicity and row.drug:\n",
    "        ethnicity_drug_counts[ethnicity][row.drug] += 1\n",
    "\n",
    "# Print top drug per ethnicity\n",
    "for ethnicity, counter in ethnicity_drug_counts.items():\n",
    "    top_drug, count = counter.most_common(1)[0]\n",
    "    print(f\"{ethnicity}: {top_drug} ({count} prescriptions)\")\n"
   ]
  },
  {
   "cell_type": "code",
   "execution_count": 32,
   "id": "978e3a1e-5553-4b64-84d6-ce98814b415e",
   "metadata": {},
   "outputs": [],
   "source": [
    "patients = session.execute(\"SELECT subject_id, dob FROM patients;\")\n",
    "subject_to_dob = {row.subject_id: row.dob for row in patients if row.dob}\n"
   ]
  },
  {
   "cell_type": "code",
   "execution_count": 33,
   "id": "287cb657-11c9-4750-ab42-634099454e48",
   "metadata": {},
   "outputs": [],
   "source": [
    "admissions = session.execute(\"SELECT subject_id, hadm_id, admittime FROM admissions;\")"
   ]
  },
  {
   "cell_type": "code",
   "execution_count": 34,
   "id": "925f5ca9-d28a-4850-b730-6f114dc0d74d",
   "metadata": {},
   "outputs": [],
   "source": [
    "from datetime import datetime\n",
    "\n",
    "hadm_to_age_group = {}\n",
    "for row in admissions:\n",
    "    dob_str = subject_to_dob.get(row.subject_id)\n",
    "    adm_str = row.admittime\n",
    "    if dob_str and adm_str:\n",
    "        try:\n",
    "            dob = datetime.strptime(dob_str, \"%Y-%m-%d %H:%M:%S\")\n",
    "            admittime = datetime.strptime(adm_str, \"%Y-%m-%d %H:%M:%S\")\n",
    "            age = (admittime - dob).days // 365\n",
    "            if age <= 19:\n",
    "                group = \"0–19\"\n",
    "            elif age <= 49:\n",
    "                group = \"20–49\"\n",
    "            elif age <= 79:\n",
    "                group = \"50–79\"\n",
    "            else:\n",
    "                group = \"80+\"\n",
    "            hadm_to_age_group[row.hadm_id] = group\n",
    "        except ValueError as e:\n",
    "            print(f\"Skipping row due to date parse error: {e}\")"
   ]
  },
  {
   "cell_type": "code",
   "execution_count": 35,
   "id": "96f9e1fa-3d9d-41dd-bf97-3bee5a967eb5",
   "metadata": {},
   "outputs": [],
   "source": [
    "procedures = session.execute(\"SELECT hadm_id, icd9_code FROM procedures_icd;\")\n"
   ]
  },
  {
   "cell_type": "code",
   "execution_count": 36,
   "id": "f59d424b-011e-41da-9086-ec1ef010acca",
   "metadata": {},
   "outputs": [],
   "source": [
    "codes = session.execute(\"SELECT icd9_code, long_title FROM d_icd_procedures;\")\n",
    "icd_map = {row.icd9_code: row.long_title for row in codes}\n"
   ]
  },
  {
   "cell_type": "code",
   "execution_count": 38,
   "id": "2cb2d11f-47f4-476f-a1e8-f007202d2ca8",
   "metadata": {},
   "outputs": [
    {
     "name": "stdout",
     "output_type": "stream",
     "text": [
      "\n",
      "Age group 50–79:\n",
      "  Venous catheterization, not elsewhere classified — 26 procedures\n",
      "  Enteral infusion of concentrated nutritional substances — 22 procedures\n",
      "  Transfusion of packed cells — 13 procedures\n",
      "\n",
      "Age group 20–49:\n",
      "  Venous catheterization, not elsewhere classified — 9 procedures\n",
      "  Enteral infusion of concentrated nutritional substances — 7 procedures\n",
      "  Percutaneous abdominal drainage — 6 procedures\n",
      "\n",
      "Age group 80+:\n",
      "  Venous catheterization, not elsewhere classified — 19 procedures\n",
      "  Transfusion of packed cells — 13 procedures\n",
      "  Insertion of endotracheal tube — 8 procedures\n",
      "\n",
      "Age group 0–19:\n",
      "  Venous catheterization, not elsewhere classified — 2 procedures\n",
      "  Other skeletal traction — 1 procedures\n",
      "  Percutaneous [endoscopic] gastrostomy [PEG] — 1 procedures\n"
     ]
    }
   ],
   "source": [
    "from collections import defaultdict, Counter\n",
    "\n",
    "agegroup_proc_counts = defaultdict(Counter)\n",
    "\n",
    "for row in procedures:\n",
    "    age_group = hadm_to_age_group.get(row.hadm_id)\n",
    "    proc = icd_map.get(row.icd9_code, row.icd9_code)\n",
    "    if age_group and proc:\n",
    "        agegroup_proc_counts[age_group][proc] += 1\n",
    "\n",
    "# Print top 3 per age group\n",
    "for group, counter in agegroup_proc_counts.items():\n",
    "    print(f\"\\nAge group {group}:\")\n",
    "    for proc, count in counter.most_common(3):\n",
    "        print(f\"  {proc} — {count} procedures\")\n",
    "\n"
   ]
  },
  {
   "cell_type": "code",
   "execution_count": 39,
   "id": "6444ed8c-4eb8-46c0-b79a-8afbbab50695",
   "metadata": {},
   "outputs": [],
   "source": [
    "icustays = session.execute(\"SELECT subject_id, intime, outtime FROM icustays;\")\n",
    "stay_lengths = defaultdict(list)\n",
    "for row in icustays:\n",
    "    if row.intime and row.outtime:\n",
    "        try:\n",
    "            intime = datetime.strptime(row.intime, \"%Y-%m-%d %H:%M:%S\")\n",
    "            outtime = datetime.strptime(row.outtime, \"%Y-%m-%d %H:%M:%S\")\n",
    "            delta = outtime - intime\n",
    "            stay_days = delta.days + delta.seconds / 86400\n",
    "            stay_lengths[row.subject_id].append(stay_days)\n",
    "        except ValueError as e:\n",
    "            print(f\"Skipping row due to date parse error: {e}\")"
   ]
  },
  {
   "cell_type": "code",
   "execution_count": 40,
   "id": "4be1aaa7-deec-4573-a2f1-eebed76d78ad",
   "metadata": {},
   "outputs": [],
   "source": [
    "patients = session.execute(\"SELECT subject_id, gender FROM patients;\")\n",
    "genders = {row.subject_id: row.gender for row in patients}\n",
    "\n",
    "admissions = session.execute(\"SELECT subject_id, ethnicity FROM admissions;\")\n",
    "ethnicities = {}\n",
    "for row in admissions:\n",
    "    if row.subject_id not in ethnicities and row.ethnicity:\n",
    "        ethnicities[row.subject_id] = row.ethnicity  # only keep first seen\n"
   ]
  },
  {
   "cell_type": "code",
   "execution_count": 41,
   "id": "37414025-6af2-4a09-8506-18f5aded7112",
   "metadata": {},
   "outputs": [
    {
     "name": "stdout",
     "output_type": "stream",
     "text": [
      "Average ICU stay by gender:\n",
      "M: 3.38 days\n",
      "F: 5.69 days\n",
      "\n",
      "Average ICU stay by ethnicity:\n",
      "WHITE: 4.22 days\n",
      "UNKNOWN/NOT SPECIFIED: 5.19 days\n",
      "OTHER: 0.93 days\n",
      "BLACK/AFRICAN AMERICAN: 8.28 days\n",
      "AMERICAN INDIAN/ALASKA NATIVE FEDERALLY RECOGNIZED TRIBE: 11.34 days\n",
      "HISPANIC/LATINO - PUERTO RICAN: 3.24 days\n",
      "HISPANIC OR LATINO: 6.48 days\n",
      "ASIAN: 3.89 days\n",
      "UNABLE TO OBTAIN: 13.36 days\n"
     ]
    }
   ],
   "source": [
    "import statistics\n",
    "gender_stays = defaultdict(list)\n",
    "ethnicity_stays = defaultdict(list)\n",
    "\n",
    "for subject_id, stays in stay_lengths.items():\n",
    "    avg_stay = statistics.mean(stays)\n",
    "    gender = genders.get(subject_id)\n",
    "    ethnicity = ethnicities.get(subject_id)\n",
    "    if gender:\n",
    "        gender_stays[gender].append(avg_stay)\n",
    "    if ethnicity:\n",
    "        ethnicity_stays[ethnicity].append(avg_stay)\n",
    "\n",
    "# Report\n",
    "print(\"Average ICU stay by gender:\")\n",
    "for gender, stays in gender_stays.items():\n",
    "    print(f\"{gender}: {statistics.mean(stays):.2f} days\")\n",
    "\n",
    "print(\"\\nAverage ICU stay by ethnicity:\")\n",
    "for eth, stays in ethnicity_stays.items():\n",
    "    print(f\"{eth}: {statistics.mean(stays):.2f} days\")\n"
   ]
  },
  {
   "cell_type": "code",
   "execution_count": null,
   "id": "4bd79403-4f27-41fb-84c3-5ee8b9b2670c",
   "metadata": {},
   "outputs": [],
   "source": []
  }
 ],
 "metadata": {
  "kernelspec": {
   "display_name": "Python 3 (ipykernel)",
   "language": "python",
   "name": "python3"
  },
  "language_info": {
   "codemirror_mode": {
    "name": "ipython",
    "version": 3
   },
   "file_extension": ".py",
   "mimetype": "text/x-python",
   "name": "python",
   "nbconvert_exporter": "python",
   "pygments_lexer": "ipython3",
   "version": "3.11.6"
  }
 },
 "nbformat": 4,
 "nbformat_minor": 5
}
