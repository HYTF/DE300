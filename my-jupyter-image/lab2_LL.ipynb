{
 "cells": [
  {
   "cell_type": "code",
   "execution_count": 3,
   "id": "f04a69a7-dfc1-405d-88ed-ed8f21471dd0",
   "metadata": {},
   "outputs": [
    {
     "name": "stdout",
     "output_type": "stream",
     "text": [
      "  first_name last_name  age  gender      occupation           city state\n",
      "0       John       Doe   30    Male        Engineer       New York    NY\n",
      "1       Jane       Doe   28  Female        Engineer    Los Angeles    CA\n",
      "2        Bob     Smith   45    Male         Analyst        Chicago    IL\n",
      "3      Alice   Johnson   35  Female  Data Scientist  San Francisco    CA\n",
      "4        Tom     Brown   50    Male          Lawyer          Miami    FL\n"
     ]
    }
   ],
   "source": [
    "# Loading required package\n",
    "# If you don't have boto3 package, you may open terminal and install by pip\n",
    "# pip install boto3\n",
    "\n",
    "\n",
    "\n",
    "import pandas as pd\n",
    "# you need to change the credentials for yourself\n",
    "# Note that aws_access_key_id changes from time to time\n",
    "\n",
    "\n",
    "df = pd.read_csv('sample_dataset.csv')\n",
    "print(df.head())\n"
   ]
  },
  {
   "cell_type": "code",
   "execution_count": null,
   "id": "bb8ba258-c1d7-477a-9930-51f9ab509fe1",
   "metadata": {},
   "outputs": [],
   "source": []
  }
 ],
 "metadata": {
  "kernelspec": {
   "display_name": "Python 3 (ipykernel)",
   "language": "python",
   "name": "python3"
  },
  "language_info": {
   "codemirror_mode": {
    "name": "ipython",
    "version": 3
   },
   "file_extension": ".py",
   "mimetype": "text/x-python",
   "name": "python",
   "nbconvert_exporter": "python",
   "pygments_lexer": "ipython3",
   "version": "3.11.6"
  }
 },
 "nbformat": 4,
 "nbformat_minor": 5
}
